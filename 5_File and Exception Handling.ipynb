{
 "cells": [
  {
   "cell_type": "markdown",
   "id": "38927486-45b5-44b0-9d7e-079338c6e171",
   "metadata": {},
   "source": [
    "# Exercise 1:\n",
    "### Write a Python program to read a file and display its contents"
   ]
  },
  {
   "cell_type": "code",
   "execution_count": 11,
   "id": "9e59b19e-68db-47a8-9ebd-b3e0af786148",
   "metadata": {},
   "outputs": [
    {
     "name": "stdout",
     "output_type": "stream",
     "text": [
      "The content of file from Demo is:\n",
      "This is your demo from writing a file!!!\n"
     ]
    }
   ],
   "source": [
    "file = open('Demo.txt','w')\n",
    "file.write('This is your demo from writing a file!!!')\n",
    "file.close()\n",
    "with open('Demo.txt','r') as Demo:\n",
    "    content = Demo.read()\n",
    "    print('The content of file from Demo is:')\n",
    "    print(content)"
   ]
  },
  {
   "cell_type": "markdown",
   "id": "26677519-4a1d-4e32-867b-19fe19420788",
   "metadata": {},
   "source": [
    "# Exercise 2:\n",
    "### Write a Python program to copy the contents of one file to another file"
   ]
  },
  {
   "cell_type": "code",
   "execution_count": 18,
   "id": "5c84a47f-36ff-4f4e-92cb-16a4b212dd4e",
   "metadata": {},
   "outputs": [
    {
     "name": "stdout",
     "output_type": "stream",
     "text": [
      "Contents copied from Source File to Destination file is:\n",
      "This is your demo from writing a file!!!\n"
     ]
    }
   ],
   "source": [
    "try:\n",
    "    with open('Demo.txt', 'r') as SourceFile:\n",
    "        content = SourceFile.read()\n",
    "    with open('Demo1.txt', 'w') as DestinationFile:\n",
    "        DestinationFile.write(content)\n",
    "    with open('Demo1.txt', 'r') as DestinationFile:\n",
    "        content = DestinationFile.read()\n",
    "    print('Contents copied from Source File to Destination file is:')\n",
    "    print(content)\n",
    "except FileNotFoundError:\n",
    "    print(\"Error: The file 'Demo.txt' was not found.\")\n",
    "except Exception as e:\n",
    "    print(f\"An error occurred: {e}\")"
   ]
  },
  {
   "cell_type": "markdown",
   "id": "8989604b-4b07-449a-859a-224edc32382a",
   "metadata": {},
   "source": [
    "# Exercise 3:\n",
    "### Write a Python program to read the content of a file and count the total number of words in that file."
   ]
  },
  {
   "cell_type": "code",
   "execution_count": 25,
   "id": "9f7c3ead-f5c3-4c0f-974a-dc2b5fe4ea07",
   "metadata": {},
   "outputs": [
    {
     "name": "stdout",
     "output_type": "stream",
     "text": [
      "The total number of words in the file Demo1.txt is: 8\n",
      "Contents of the file are:\n",
      "This is your demo from writing a file!!!\n"
     ]
    }
   ],
   "source": [
    "with open('Demo1.txt', 'r') as abc:\n",
    "    content = abc.read()\n",
    "words = content.split()\n",
    "word_count = len(words)\n",
    "print('The total number of words in the file Demo1.txt is:', word_count)\n",
    "print('Contents of the file are:')\n",
    "print(content)"
   ]
  },
  {
   "cell_type": "markdown",
   "id": "fe3fdec7-f8ed-403a-b438-51b2c3b0b2f3",
   "metadata": {},
   "source": [
    "# Exercise 4:\n",
    "### Write a Python program that prompts the user to input a string and converts it to an integer. Use try-except blocks to handle any exceptions that might occur"
   ]
  },
  {
   "cell_type": "code",
   "execution_count": 30,
   "id": "08f8472f-a7f0-4156-a290-27fd05094efe",
   "metadata": {},
   "outputs": [
    {
     "name": "stdin",
     "output_type": "stream",
     "text": [
      "Please enter a string to convert to an integer:  12mmmn\n"
     ]
    },
    {
     "name": "stdout",
     "output_type": "stream",
     "text": [
      "Error: The input is not a valid integer.\n"
     ]
    }
   ],
   "source": [
    "abc = input(\"Please enter a string to convert to an integer: \")\n",
    "try:\n",
    "    # Attempt to convert the input string to an integer\n",
    "    xyz = int(abc)\n",
    "    print(\"The converted integer is:\" , xyz)\n",
    "except ValueError:\n",
    "    print(\"Error: The input is not a valid integer.\")\n",
    "except Exception as e:\n",
    "    print('An unexpected error occurred:' , e)"
   ]
  },
  {
   "cell_type": "markdown",
   "id": "1a049079-b174-4040-be29-2e85560dd3e1",
   "metadata": {},
   "source": [
    "# Exercise 5:\n",
    "### Write a Python program that prompts the user to input a list of integers and raises an exception if any of the integers in the list are negative."
   ]
  },
  {
   "cell_type": "code",
   "execution_count": 33,
   "id": "42f64566-6339-4e75-a710-7da45c8d071c",
   "metadata": {},
   "outputs": [
    {
     "name": "stdin",
     "output_type": "stream",
     "text": [
      "Enter a list of integers separated by spaces:  1 2 3 4 5 6 7 8 9\n"
     ]
    },
    {
     "name": "stdout",
     "output_type": "stream",
     "text": [
      "All integers are valid (no negatives).\n"
     ]
    }
   ],
   "source": [
    "#Here NI: Negative Integers, abc: Integer List and xyz: User Input\n",
    "def NI(abc):\n",
    "    for num in abc:\n",
    "        if num < 0:\n",
    "            raise ValueError(\"Error: Negative integers are not allowed.\")\n",
    "    print(\"All integers are valid (no negatives).\")\n",
    "xyz = input(\"Enter a list of integers separated by spaces: \")\n",
    "try:\n",
    "    abc = [int(x) for x in xyz.split()]\n",
    "    NI(abc)\n",
    "    \n",
    "except ValueError as ve:\n",
    "       print(ve)\n",
    "\n",
    "except Exception as e:\n",
    "      print(\"An unexpected error occurred:\", e)"
   ]
  },
  {
   "cell_type": "markdown",
   "id": "3d9de569-263b-41a8-bd54-5faaa531833e",
   "metadata": {},
   "source": [
    "# Exercise 6:\n",
    "### Write a Python program that prompts the user to input a list of integers and computes the average of those integers. Use try-except blocks to handle any exceptions that might occur.use the finally clause to print a message indicating that the program has finished running."
   ]
  },
  {
   "cell_type": "code",
   "execution_count": 36,
   "id": "2779e02d-f44a-4b43-bbfc-396f7e7ca665",
   "metadata": {},
   "outputs": [
    {
     "name": "stdin",
     "output_type": "stream",
     "text": [
      "Enter a list of integers separated by spaces:  1 -2 - 3 4 5 6 7 8 9\n"
     ]
    },
    {
     "name": "stdout",
     "output_type": "stream",
     "text": [
      "invalid literal for int() with base 10: '-'\n",
      "The program has finished running.\n"
     ]
    }
   ],
   "source": [
    "def average(numbers):\n",
    "    if len(numbers) == 0:\n",
    "        raise ValueError(\"Error: The list is empty. Cannot compute the average.\")\n",
    "    return sum(numbers) / len(numbers)\n",
    "xyz = input(\"Enter a list of integers separated by spaces: \")\n",
    "try:\n",
    "    numbers = [int(x) for x in xyz.split()]\n",
    "    avg = average(numbers)\n",
    "    print(\"The average of the integers is:\", avg)\n",
    "\n",
    "except ValueError as ve:\n",
    "    print(ve)\n",
    "\n",
    "except Exception as e:\n",
    "    print(\"An unexpected error occurred:\", e)\n",
    "\n",
    "finally:\n",
    "    print(\"The program has finished running.\")"
   ]
  },
  {
   "cell_type": "markdown",
   "id": "a80420e6-496f-4154-8b1f-e72ec4dab8ea",
   "metadata": {},
   "source": [
    "# Exercise 7 :\n",
    "### Write a Python program that prompts the user to input a filename and writes a string to that file. Use try-except blocks to handle any exceptions that might occur and print a welcome message if there is no exception occurred."
   ]
  },
  {
   "cell_type": "code",
   "execution_count": 44,
   "id": "d295c6be-f38e-4b39-9c08-7730cf0e889b",
   "metadata": {},
   "outputs": [
    {
     "name": "stdin",
     "output_type": "stream",
     "text": [
      "Enter the filename to write to:  Demo1.txt\n"
     ]
    },
    {
     "name": "stdout",
     "output_type": "stream",
     "text": [
      "File Demo1.txt has been written successfully!\n",
      "Welcome! The file was created and the content was written successfully.\n"
     ]
    }
   ],
   "source": [
    "abc = input(\"Enter the filename to write to: \")\n",
    "xyz = \"Welcome to the Python file writing program!\"\n",
    "\n",
    "try:\n",
    "    with open(abc, 'w') as file:\n",
    "        file.write(xyz)\n",
    "    \n",
    "    print(\"File\", abc, \"has been written successfully!\")\n",
    "    print(\"Welcome! The file was created and the content was written successfully.\")\n",
    "\n",
    "except Exception as e:\n",
    "    print(\"An error occurred:\", e)"
   ]
  },
  {
   "cell_type": "code",
   "execution_count": null,
   "id": "4455033c-4cef-4152-bf9f-f71f0f268d00",
   "metadata": {},
   "outputs": [],
   "source": []
  }
 ],
 "metadata": {
  "kernelspec": {
   "display_name": "Python 3 (ipykernel)",
   "language": "python",
   "name": "python3"
  },
  "language_info": {
   "codemirror_mode": {
    "name": "ipython",
    "version": 3
   },
   "file_extension": ".py",
   "mimetype": "text/x-python",
   "name": "python",
   "nbconvert_exporter": "python",
   "pygments_lexer": "ipython3",
   "version": "3.13.2"
  }
 },
 "nbformat": 4,
 "nbformat_minor": 5
}
